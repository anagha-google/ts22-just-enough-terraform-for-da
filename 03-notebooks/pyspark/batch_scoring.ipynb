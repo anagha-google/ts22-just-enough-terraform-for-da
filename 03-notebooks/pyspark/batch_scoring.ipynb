{
 "cells": [
  {
   "cell_type": "markdown",
   "id": "463506b1-7a4f-49ac-a131-0b5d7561164e",
   "metadata": {},
   "source": [
    "# Batch Scoring\n",
    "\n",
    "This script does batch scoring.\n",
    "1. It parses, transforms data in GCS to be scored, \n",
    "2. Loads the model in GCS,\n",
    "3. Uses the model to predict\n",
    "4. Persists predictions to BigQuery"
   ]
  },
  {
   "cell_type": "code",
   "execution_count": null,
   "id": "edbe3069-3d05-4e94-8954-1997d6511e3f",
   "metadata": {},
   "outputs": [],
   "source": [
    "spark"
   ]
  },
  {
   "cell_type": "code",
   "execution_count": null,
   "id": "7a4fc9b1-36b2-4fd8-9765-7ad15b3d02a0",
   "metadata": {},
   "outputs": [],
   "source": [
    "from pyspark.sql import SparkSession\n",
    "from pyspark.sql.functions import *\n",
    "from pyspark.ml import PipelineModel\n",
    "import sys\n",
    "from datetime import datetime\n",
    "import random"
   ]
  },
  {
   "cell_type": "code",
   "execution_count": null,
   "id": "684b8dbc-9ea5-4391-870e-cb32f406e7ed",
   "metadata": {},
   "outputs": [],
   "source": [
    "# 1a. Arguments\n",
    "pipelineID = random.randint(1, 10000)\n",
    "projectNbr = \"YOUR_PROJECT_NBR\"\n",
    "projectID = \"YOUR_PROJECT_ID\"\n",
    "displayPrintStatements = True"
   ]
  },
  {
   "cell_type": "code",
   "execution_count": null,
   "id": "c91b4bc7-4f08-4411-9b1f-540b34d7be39",
   "metadata": {},
   "outputs": [],
   "source": [
    "# 1b. Variables \n",
    "appBaseName = \"customer-churn-model\"\n",
    "appNameSuffix = \"batch-scoring\"\n",
    "appName = f\"{appBaseName}-{appNameSuffix}\"\n",
    "modelBaseNm = appBaseName\n",
    "bqDatasetNm = f\"{projectID}.customer_churn_ds\"\n",
    "scoreDatasetBucketFQN = f\"gs://s8s_data_bucket-{projectNbr}/customer_churn_score_data.csv\"\n",
    "bigQueryOutputTableFQN = f\"{bqDatasetNm}.batch_predictions\"\n",
    "bigQueryModelAssetTrackerTableFQN = f\"{bqDatasetNm}.model_asset_tracker\"\n",
    "scratchBucketUri = f\"s8s-spark-bucket-{projectNbr}/{appBaseName}/pipelineId-{pipelineID}/{appNameSuffix}/\"\n",
    "pipelineExecutionDt = datetime.now().strftime(\"%Y%m%d%H%M%S\")"
   ]
  },
  {
   "cell_type": "code",
   "execution_count": null,
   "id": "67e57cbb-7585-4118-8a90-a6844182374b",
   "metadata": {},
   "outputs": [],
   "source": [
    "# 1c. Display input and output\n",
    "if displayPrintStatements:\n",
    "    print(\"Starting batch_scoring for Customer Churn Predictions\")\n",
    "    print(\".....................................................\")\n",
    "    print(f\"The datetime now is - {pipelineExecutionDt}\")\n",
    "    print(\" \")\n",
    "    print(\"INPUT-\")\n",
    "    print(f\"....pipelineID={pipelineID}\")\n",
    "    print(f\"....projectNbr={projectNbr}\")\n",
    "    print(f\"....projectID={projectID}\")\n",
    "    print(f\"....displayPrintStatements={displayPrintStatements}\")\n",
    "    print(\" \")"
   ]
  },
  {
   "cell_type": "code",
   "execution_count": null,
   "id": "8822c32c-984d-42e8-acaa-1c64712c1119",
   "metadata": {},
   "outputs": [],
   "source": [
    "# 2. Spark Session creation\n",
    "print('....Initializing spark & spark configs')\n",
    "spark = SparkSession.builder.appName(appName).getOrCreate()\n",
    "\n",
    "# Spark configuration setting for writes to BigQuery\n",
    "spark.conf.set(\"parentProject\", projectID)\n",
    "spark.conf.set(\"temporaryGcsBucket\", scratchBucketUri)\n",
    "\n",
    "# Add Python modules\n",
    "sc.addPyFile(f\"gs://s8s_code_bucket-{projectNbr}/pyspark/common_utils.py\")\n",
    "import common_utils"
   ]
  },
  {
   "cell_type": "code",
   "execution_count": null,
   "id": "a7259f0f-a5e6-4e5b-876d-fe08de2ba659",
   "metadata": {},
   "outputs": [],
   "source": [
    "# 3. Read data to be scored from GCS\n",
    "print('....Read batch scoring input and profile')\n",
    "scoreRawDF = spark.read.options(inferSchema = True, header= True).csv(scoreDatasetBucketFQN)\n",
    "if displayPrintStatements:\n",
    "    print(scoreRawDF.count())"
   ]
  },
  {
   "cell_type": "code",
   "execution_count": null,
   "id": "925bb7db-642b-4412-b4c7-7c2ab3ff7999",
   "metadata": {},
   "outputs": [],
   "source": [
    "# 4. Display data, display summary stats\n",
    "if displayPrintStatements:\n",
    "    scoreRawDF.show(2)\n",
    "    scoreRawDF.describe().show()"
   ]
  },
  {
   "cell_type": "code",
   "execution_count": null,
   "id": "c5f0d470-140b-498b-bd56-054aa7d9198c",
   "metadata": {},
   "outputs": [],
   "source": [
    "# 5. Replace spaces, space with null values in the TotalCharges and MonthlyCharges columns\n",
    "print('....Data pre-process: fnReplaceSpaceWithNone in TotalCharges and MonthlyCharges')\n",
    "spaceReplacedDF = common_utils.fnReplaceSpaceWithNone(scoreRawDF)\n",
    "if displayPrintStatements:\n",
    "    print(spaceReplacedDF.count())"
   ]
  },
  {
   "cell_type": "code",
   "execution_count": null,
   "id": "51eae237-9f27-48aa-b22f-e360fee251f1",
   "metadata": {},
   "outputs": [],
   "source": [
    "# 6. Replace non-numeric values in the TotalCharges and MonthlyCharges columns\n",
    "print('....Data pre-process: ReplaceNotANumberWithNone in TotalCharges and MonthlyCharges')\n",
    "nanReplacedDF = common_utils.fnReplaceNotANumberWithNone(spaceReplacedDF)\n",
    "if displayPrintStatements:\n",
    "    print(nanReplacedDF.count())"
   ]
  },
  {
   "cell_type": "code",
   "execution_count": null,
   "id": "6f016816-d830-44ca-9926-c41d2409e956",
   "metadata": {},
   "outputs": [],
   "source": [
    "# 7. Drop rows with null in columns\n",
    "print('....Data pre-process: Drop rows with none')\n",
    "nullDroppedDF = nanReplacedDF.na.drop()\n",
    "\n",
    "if displayPrintStatements:\n",
    "    print(nullDroppedDF.count())"
   ]
  },
  {
   "cell_type": "code",
   "execution_count": null,
   "id": "b2a5eff9-7ab0-46a3-bd80-8794582c50ee",
   "metadata": {},
   "outputs": [],
   "source": [
    "# 8. Replace 'No internet service' across columns to 'No'\n",
    "print('....Data pre-process: Replace -No internet service- across columns with -No-')\n",
    "partiallyProcessedDF = common_utils.fnReplaceWithNoForInternetService(nullDroppedDF)\n",
    "if displayPrintStatements:\n",
    "    print(partiallyProcessedDF.count())"
   ]
  },
  {
   "cell_type": "code",
   "execution_count": null,
   "id": "67583d3b-fd56-45c2-b7da-16158d11a3af",
   "metadata": {},
   "outputs": [],
   "source": [
    "# 9. Add a bin/bucket category for tenure range using Spark SQL and write transformed to dataframe\n",
    "print('....Data pre-process: Replace -No internet service- across columns with -No-') \n",
    "scoreTargetDF = common_utils.fnAddBinForTenure(partiallyProcessedDF, True, spark)\n",
    "if displayPrintStatements:\n",
    "    print(scoreTargetDF.count())\n",
    "    scoreTargetDF.show(2)                            "
   ]
  },
  {
   "cell_type": "code",
   "execution_count": null,
   "id": "4893d9f1-33dc-434f-b3b6-49c512d3ea84",
   "metadata": {},
   "outputs": [],
   "source": [
    "# 10. Format dataframe names for column name format consistency\n",
    "scorableDF = scoreTargetDF.select(\"customerID\", \"gender\", \"SeniorCitizen\", \"Partner\", \"Dependents\", \"tenure\", \"Tenure_Group\", \"PhoneService\", \"MultipleLines\", \"InternetService\", \"OnlineSecurity\", \"OnlineBackup\", \"DeviceProtection\", \"TechSupport\", \"StreamingTV\", \"StreamingMovies\", \"Contract\", \"PaperlessBilling\", \"PaymentMethod\", \"MonthlyCharges\", \"TotalCharges\") \\\n",
    "                                .toDF(\"customer_id\", \"gender\", \"senior_citizen\", \"partner\", \"dependents\", \"tenure\", \"tenure_group\", \"phone_service\", \"multiple_lines\", \"internet_service\", \"online_security\", \"online_backup\", \"device_protection\", \"tech_support\", \"streaming_tv\", \"streaming_movies\", \"contract\", \"paperless_billing\", \"payment_method\", \"monthly_charges\", \"total_charges\") \n",
    "\n",
    "if displayPrintStatements:\n",
    "    print(scorableDF.count())\n",
    "    scorableDF.show(2)"
   ]
  },
  {
   "cell_type": "code",
   "execution_count": null,
   "id": "3bf042ce-7340-485c-a0eb-e5a78522b7ec",
   "metadata": {},
   "outputs": [],
   "source": [
    "# 11a. Determine the version of the model available in the Asset Tracker table\n",
    "modelAssetSpecsDF=spark.read \\\n",
    "    .format('bigquery') \\\n",
    "    .load(bigQueryModelAssetTrackerTableFQN)\n",
    "\n",
    "modelVersion=modelAssetSpecsDF.first()[\"model_version\"]\n",
    "modelGcsUriFromAssetTracker=modelAssetSpecsDF.first()[\"model_gcs_uri\"]\n",
    "print(f\"The model version is: {modelVersion}\")\n",
    "print(f\"The model GCS URI is: {modelGcsUriFromAssetTracker}\")"
   ]
  },
  {
   "cell_type": "code",
   "execution_count": null,
   "id": "da8316cb-0df2-4667-98a8-60c4a1428f6e",
   "metadata": {},
   "outputs": [],
   "source": [
    "# 11b. Load the pre-trained, persisted model in GCS\n",
    "print(f'....Scoring: Load model out of bucket at {modelGcsUriFromAssetTracker} into memory') \n",
    "model = PipelineModel.load(f\"{modelGcsUriFromAssetTracker}/bestModel/\")"
   ]
  },
  {
   "cell_type": "code",
   "execution_count": null,
   "id": "8e36f456-7bea-4b77-b7c2-534e6be5379c",
   "metadata": {},
   "outputs": [],
   "source": [
    "# 12. Batch scoring\n",
    "print('....Scoring: Execute model.transform') \n",
    "batchScoreResultsDF = model.transform(scorableDF) \\\n",
    "                           .withColumn(\"model_version\", lit(modelVersion).cast(\"string\")) \\\n",
    "                           .withColumn(\"pipeline_id\", lit(pipelineID).cast(\"string\")) \\\n",
    "                           .withColumn(\"pipeline_execution_dt\", lit(pipelineExecutionDt)) \n",
    "\n",
    "if displayPrintStatements:\n",
    "    batchScoreResultsDF.show(2)"
   ]
  },
  {
   "cell_type": "code",
   "execution_count": null,
   "id": "e475788b-62ca-4f4d-bf6f-b1c1330f3cd6",
   "metadata": {},
   "outputs": [],
   "source": [
    "# 13. Persist to BigQuery\n",
    "print('....Persisting: Batch scoring results to BigQuery')\n",
    "batchScoreResultsDF.select(\"customer_id\", \"gender\", \"senior_citizen\", \"partner\", \"dependents\", \"tenure\", \"tenure_group\", \"phone_service\", \"multiple_lines\", \"internet_service\", \"online_security\", \"online_backup\", \"device_protection\", \"tech_support\", \"streaming_tv\", \"streaming_movies\", \"contract\", \"paperless_billing\", \"payment_method\", \"monthly_charges\", \"total_charges\",\"prediction\",\"model_version\",\"pipeline_id\",\"pipeline_execution_dt\") \\\n",
    ".write.format('bigquery') \\\n",
    ".mode(\"append\")\\\n",
    ".option('table', bigQueryOutputTableFQN) \\\n",
    ".save()"
   ]
  }
 ],
 "metadata": {
  "language_info": {
   "codemirror_mode": {
    "name": "ipython",
    "version": 3
   },
   "file_extension": ".py",
   "mimetype": "text/x-python",
   "name": "python",
   "nbconvert_exporter": "python",
   "pygments_lexer": "ipython3",
   "version": "3.9.13"
  },
  "serverless_spark": "{\"name\":\"projects/gcp-scalable-ml-workshop/locations/us-central1/sessions/s8s-spark-session-15421\",\"uuid\":\"a31e3cad-09d0-44a8-9670-4b1fb4fc5e65\",\"createTime\":\"2022-09-30T13:57:21.802416Z\",\"jupyterSession\":{},\"spark\":{},\"runtimeInfo\":{\"endpoints\":{\"Spark History Server\":\"https://dw3pman6ircwnkz7lxfrd6ekxu-dot-us-central1.dataproc.googleusercontent.com/sparkhistory/\"}},\"state\":\"ACTIVE\",\"stateTime\":\"2022-09-30T14:01:07.105265Z\",\"creator\":\"admin@akhanolkar.altostrat.com\",\"runtimeConfig\":{\"containerImage\":\"gcr.io/gcp-scalable-ml-workshop/customer_churn_image:1.0.0\",\"properties\":{\"spark:spark.jars\":\"gs://spark-lib/bigquery/spark-bigquery-with-dependencies_2.12-0.22.2.jar\",\"spark:spark.jars.packages\":\"ml.combust.mleap:mleap-spark_2.12:0.20.0\",\"spark:spark.executor.instances\":\"2\",\"spark:spark.driver.cores\":\"4\",\"spark:spark.executor.cores\":\"4\",\"spark:spark.dynamicAllocation.executorAllocationRatio\":\"0.3\",\"spark:spark.eventLog.dir\":\"gs://s8s-sphs-569379262211/a31e3cad-09d0-44a8-9670-4b1fb4fc5e65/spark-job-history\"}},\"environmentConfig\":{\"executionConfig\":{\"subnetworkUri\":\"spark-snet\",\"idleTtl\":\"14400s\"},\"peripheralsConfig\":{\"sparkHistoryServerConfig\":{\"dataprocCluster\":\"projects/gcp-scalable-ml-workshop/regions/us-central1/clusters/s8s-sphs-569379262211\"}}},\"stateHistory\":[{\"state\":\"CREATING\",\"stateStartTime\":\"2022-09-30T13:57:21.802416Z\"}]}",
  "serverless_spark_kernel_name": "remote-d107994554a9995f9a54fc3d-pyspark"
 },
 "nbformat": 4,
 "nbformat_minor": 5
}
